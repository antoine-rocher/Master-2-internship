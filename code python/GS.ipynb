{
 "cells": [
  {
   "cell_type": "code",
   "execution_count": 71,
   "metadata": {},
   "outputs": [
    {
     "name": "stdout",
     "output_type": "stream",
     "text": [
      "Populating the interactive namespace from numpy and matplotlib\n"
     ]
    },
    {
     "name": "stderr",
     "output_type": "stream",
     "text": [
      "/usr/local/lib/python3.7/site-packages/IPython/core/magics/pylab.py:160: UserWarning: pylab import has clobbered these variables: ['var']\n",
      "`%matplotlib` prevents importing * from pylab and numpy\n",
      "  \"\\n`%matplotlib` prevents importing * from pylab and numpy\"\n"
     ]
    }
   ],
   "source": [
    "%pylab inline\n",
    "import scipy as S\n",
    "from scipy.special import legendre\n",
    "from scipy.integrate import quad\n",
    "from scipy import interpolate as I\n",
    "import astropy as A\n",
    "from astropy import convolution as conv\n",
    "#from scipy.stats import norm"
   ]
  },
  {
   "cell_type": "code",
   "execution_count": 72,
   "metadata": {},
   "outputs": [],
   "source": [
    "fg=0.7\n",
    "f1=1\n",
    "f2=0\n",
    "sig_v=1.5\n",
    "sig8=1.55"
   ]
  },
  {
   "cell_type": "code",
   "execution_count": 73,
   "metadata": {},
   "outputs": [],
   "source": [
    "#Charge les fichier de la prediction CLPT\n",
    "fXi=loadtxt(\"../CLPT/data/Xi_r_simu.dat\")\n",
    "fV12=loadtxt(\"../CLPT/data/V12_simu.dat\")\n",
    "fSigma=loadtxt(\"../CLPT/data/Sigma_simu.dat\")\n",
    "\n",
    "xi_x=fXi[:,0]\n",
    "xi_y=fXi[:,1]+f1*fXi[:,2]+f2*fXi[:,3]+f1*f1*fXi[:,4]+f1*f2*fXi[:,5]+f2*f2*fXi[:,6] #F0,F',F'',F'²,F'_F'',F''²\n",
    "v12_x=fV12[:,0]\n",
    "v12_y=fV12[:,1]+f1*fV12[:,2]+f2*fV12[:,3]+f1*f1*fV12[:,4]+f1*f2*fV12[:,5]\n",
    "sig_x=fSigma[:,0]\n",
    "sig_par=fSigma[:,1]+f1*fSigma[:,2]+f2*fSigma[:,3]+f1*f1*fSigma[:,4]\n",
    "sig_per=fSigma[:,5]+f1*fSigma[:,6]+f2*fSigma[:,7]+f1*f1*fSigma[:,8]\n",
    "\n"
   ]
  },
  {
   "cell_type": "code",
   "execution_count": 74,
   "metadata": {},
   "outputs": [],
   "source": [
    "V12 = I.interp1d(v12_x, v12_y, kind='cubic',bounds_error=False, fill_value=0)\n",
    "Sig_par = I.interp1d(sig_x, sig_par, kind='cubic',bounds_error=False, fill_value=0)\n",
    "Sig_per = I.interp1d(sig_x, sig_per, kind='cubic',bounds_error=False, fill_value=0)\n",
    "Xi_r = I.interp1d(xi_x, xi_y, kind='cubic',bounds_error=False, fill_value=0)"
   ]
  },
  {
   "cell_type": "code",
   "execution_count": 75,
   "metadata": {},
   "outputs": [],
   "source": [
    "#Fonction \n",
    "def gauss (x,moy,var2) :\n",
    "    return 1./(sqrt(2*pi*var2))*exp(-(x-moy)**2/(2*var2))\n",
    "\n",
    "def Sigma (mu, r):\n",
    "    if (sig_x[0]<=r<=sig_x[-1]):\n",
    "        return (mu**2*(Sig_par(r))+(1.-mu*mu)*Sig_per(r))/(1.+Xi_r(r))+sig_v**2\n",
    "    else :\n",
    "        return 0\n",
    "\n",
    "def fXis (y, spar, rp):\n",
    "    r = sqrt(rp*rp+y*y)\n",
    "    if (sig_x[0]<=r<=sig_x[-1]):\n",
    "        v = fg*V12(r)/(1.+Xi_r(r))\n",
    "        mu_r = y/r\n",
    "        x = spar-y\n",
    "        moy = mu_r*v\n",
    "        var = fg**2*Sigma(mu_r,r)\n",
    "        if (var>0):\n",
    "            return (1.+Xi_r(r))*gauss(x, moy, var)\n",
    "        else :\n",
    "            return 0\n",
    "    else :\n",
    "        return 0\n",
    "    \n",
    "def Xis (spar, rp):\n",
    "    return quad(fXis,-150,150,args=(spar,rp),epsabs=0)[0]-1\n",
    "   # return S.integrate.quadrature(fXis,-150,150,args=(spar,rp))\n",
    "\n",
    "#Fonction multipole\n",
    "def fmultipole (mu, s, l):\n",
    "    rp = s*sqrt(1-mu*mu)\n",
    "    spi = s*mu\n",
    "    Xi_s= Xis(rp,spi)\n",
    "    return Xi_s*legendre(l)(mu)\n",
    "\n",
    "def multipole (s, l):\n",
    "    return quad(fmultipole,-1,1,args=(s,l),epsabs=0)[0]*(2*l+1)/2\n",
    "    #return S.integrate.quadrature(fmultipole,-1,1,args=(s,l))[0]\n",
    "#quad(func, a, b, args, full_output, epsabs, epsrel, limit, points, weight, wvar, wopts, maxp1, limlst)"
   ]
  },
  {
   "cell_type": "code",
   "execution_count": 76,
   "metadata": {},
   "outputs": [
    {
     "name": "stderr",
     "output_type": "stream",
     "text": [
      "/usr/local/lib/python3.7/site-packages/ipykernel_launcher.py:38: IntegrationWarning: The occurrence of roundoff error is detected, which prevents \n",
      "  the requested tolerance from being achieved.  The error may be \n",
      "  underestimated.\n"
     ]
    },
    {
     "data": {
      "text/plain": [
       "0.14940622950074042"
      ]
     },
     "execution_count": 76,
     "metadata": {},
     "output_type": "execute_result"
    }
   ],
   "source": [
    "multipole(30,0)"
   ]
  },
  {
   "cell_type": "code",
   "execution_count": 14,
   "metadata": {},
   "outputs": [],
   "source": [
    "i=0\n",
    "x = array([])\n",
    "r=array([])\n",
    "mu_r=array([])\n",
    "for spar in range(1,130,26):\n",
    "    for y in range (-150,150):\n",
    "        x = append(x,spar-y)\n",
    "        r = append(r,sqrt(spar*spar+y*y))\n",
    "        mu_r = append(mu_r,y/r[i])\n",
    "        i+=1\n",
    "\n",
    "for i in range(1,100):\n",
    "    if (sig_x[0]<=r[i]<=sig_x[-1]):\n",
    "        var = fg**2*Sigma(mu_r[i],r[i])    \n",
    "        xi=conv.convolve_fft(x,conv.Gaussian1DKernel(stddev=var))"
   ]
  },
  {
   "cell_type": "code",
   "execution_count": 15,
   "metadata": {},
   "outputs": [],
   "source": [
    "def gaus(bins, mu=0, sigma=1):\n",
    "        return 1.0/(np.sqrt(sigma * 2 * np.pi)) * np.exp( - (bins - mu)**2 / (2 * sigma))\n",
    "    \n",
    "def moy(rpar,r):\n",
    "    if (sig_x[0]<=r<=sig_x[-1]):\n",
    "        return rpar/r*fg*V12(r)/(1.+Xi_r(r))\n",
    "    else : \n",
    "        return 0\n",
    "\n",
    "def var(rpar,r):                   #sigma2\n",
    "    S = fg**2*Sigma(rpar/r,r)\n",
    "    if S > 0 : \n",
    "        return S\n",
    "    else : \n",
    "        return 0\n",
    "    \n",
    "def convolve_var(rpar, r, xi, moy, var, t=1): #rpar=vector, xi=1+xi(r)(vector)\n",
    "    n = rpar.size\n",
    "    g = np.zeros(n)\n",
    "    s = np.zeros(n)\n",
    "    rolled = xi\n",
    "    xx = np.roll(rpar,int(n/2))\n",
    "\n",
    "    for i in range(n):\n",
    "        g = gaus(rpar, moy(xx[i],r[i]),var(xx[i],r[i]))\n",
    "        s[i] = sum(rolled * g)\n",
    "        rolled = np.roll(rolled,t)\n",
    "\n",
    "    s = np.roll(s,int(n/2))\n",
    "               \n",
    "    return s"
   ]
  },
  {
   "cell_type": "code",
   "execution_count": 70,
   "metadata": {},
   "outputs": [],
   "source": [
    "#save pour plot\n",
    "arr = empty((99,3))\n",
    "out = empty((99*99,3))\n",
    "rpv = arange(1,100)\n",
    "rpar = arange(1,100)\n",
    "for rp in rpv:\n",
    "    r = np.sqrt(rp**2+rpar**2)\n",
    "    opx = 1 + Xi_r(r)\n",
    "    result = convolve_var(rpar,r,opx,moy,var)\n",
    "    arr = np.array([rpar*0+rp,rpar,result]).T\n",
    "    out[(rp-1)*99:rp*99,:] = arr\n",
    "savetxt(\"outmodel.dat\",out)"
   ]
  },
  {
   "cell_type": "code",
   "execution_count": 68,
   "metadata": {
    "scrolled": true
   },
   "outputs": [
    {
     "data": {
      "text/plain": [
       "array([[ 1.        ,  1.        ,  0.48456875],\n",
       "       [ 1.        ,  2.        ,  0.48415507],\n",
       "       [ 1.        ,  3.        ,  0.483894  ],\n",
       "       ...,\n",
       "       [99.        , 97.        ,  0.46145674],\n",
       "       [99.        , 98.        ,  0.46155667],\n",
       "       [99.        , 99.        ,  0.47798753]])"
      ]
     },
     "execution_count": 68,
     "metadata": {},
     "output_type": "execute_result"
    }
   ],
   "source": [
    "out"
   ]
  },
  {
   "cell_type": "code",
   "execution_count": 206,
   "metadata": {},
   "outputs": [],
   "source": [
    "def kernel (rp):\n",
    "    k=np.zeros(130)\n",
    "    rpp=np.zeros(130)\n",
    "    i=0\n",
    "    for rpar in range(1,131):\n",
    "        rpp[i]=rpar\n",
    "        r=sqrt(rpar*rpar+rp*rp)\n",
    "        if (sig_x[0]<=r<=sig_x[-1]):\n",
    "            mu = rpar/r\n",
    "            moy=mu*fg*V12(r)/(1.+Xi_r(r))\n",
    "            var2=fg**2*Sigma(mu,r)\n",
    "            xi[i] = 1+Xi_r(r)\n",
    "            if var2>0:\n",
    "                k[i] = gauss(rpar,moy,var2)\n",
    "            else: \n",
    "                k[i]=0\n",
    "        else :\n",
    "            k[i]=0\n",
    "            xi[i]=0\n",
    "        i+=1\n",
    "    return xi,k,rpp"
   ]
  }
 ],
 "metadata": {
  "kernelspec": {
   "display_name": "Python 3",
   "language": "python",
   "name": "python3"
  },
  "language_info": {
   "codemirror_mode": {
    "name": "ipython",
    "version": 3
   },
   "file_extension": ".py",
   "mimetype": "text/x-python",
   "name": "python",
   "nbconvert_exporter": "python",
   "pygments_lexer": "ipython3",
   "version": "3.7.2"
  }
 },
 "nbformat": 4,
 "nbformat_minor": 2
}
